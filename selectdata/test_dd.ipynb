{
 "cells": [
  {
   "cell_type": "code",
   "execution_count": 1,
   "metadata": {},
   "outputs": [],
   "source": [
    "from elasticsearch import Elasticsearch\n",
    "from get_data import twitter, epa, bom, health"
   ]
  },
  {
   "cell_type": "code",
   "execution_count": 2,
   "metadata": {},
   "outputs": [],
   "source": [
    "es = Elasticsearch(\n",
    "    'https://127.0.0.1:9200',\n",
    "    verify_certs=False,\n",
    "    basic_auth=('elastic', 'elastic'),\n",
    "    request_timeout=60,\n",
    "    ssl_show_warn=False\n",
    "    )"
   ]
  },
  {
   "cell_type": "code",
   "execution_count": 6,
   "metadata": {},
   "outputs": [],
   "source": [
    "# EPA(es, start, end, avg=None, time=None, health_advice=None, city=None, health_parameter=None, size=1000)\n",
    "results = epa(es, 1, 10, city=\"Ballarat\", size=5)"
   ]
  },
  {
   "cell_type": "code",
   "execution_count": 11,
   "metadata": {},
   "outputs": [],
   "source": [
    "# bom(es, start, end, air_temp=None, apparent_temp=None, cloud=None, cloud_type=None, delta_temp=None, dew_point=None, time=None, press=None, press_tend=None, rain_trace=None, vis_km=None, weather=None, wind_spd_kmh=None, size=1000)\n",
    "results = bom(es, 3, 10, size=5)"
   ]
  },
  {
   "cell_type": "code",
   "execution_count": 15,
   "metadata": {},
   "outputs": [],
   "source": [
    "# health(es, asr=None, disease=None, lga=None, num=None, period=None, phn=None, sr=None, size=1000)\n",
    "results = health(es, phn=\"North Western Melbourne\", size=5)"
   ]
  },
  {
   "cell_type": "code",
   "execution_count": 7,
   "metadata": {},
   "outputs": [],
   "source": [
    "results = twitter(es, city=\"Ballarat\", size=5, language=\"de\")"
   ]
  },
  {
   "cell_type": "code",
   "execution_count": 9,
   "metadata": {},
   "outputs": [],
   "source": [
    "results = twitter(es, city=\"Ballarat\", size=5)"
   ]
  },
  {
   "cell_type": "code",
   "execution_count": 5,
   "metadata": {},
   "outputs": [],
   "source": [
    "results = twitter(es, language=\"de\", size=5)"
   ]
  },
  {
   "cell_type": "code",
   "execution_count": 8,
   "metadata": {},
   "outputs": [],
   "source": [
    "results = twitter(es)"
   ]
  },
  {
   "cell_type": "code",
   "execution_count": 16,
   "metadata": {},
   "outputs": [
    {
     "name": "stdout",
     "output_type": "stream",
     "text": [
      "{'PHN': 'North Western Melbourne', 'LGA': 'Brimbank', 'Period': '2010-2014', 'Disease': 'Cancer', 'ASR': 93.1, 'SR': 93, 'NUM': 791}\n",
      "{'PHN': 'North Western Melbourne', 'LGA': 'Brimbank', 'Period': '2010-2014', 'Disease': 'Lung_Cancer', 'ASR': 19.2, 'SR': 91, 'NUM': 162}\n",
      "{'PHN': 'North Western Melbourne', 'LGA': 'Brimbank', 'Period': '2010-2014', 'Disease': 'COPD', 'ASR': 5.5, 'SR': 65, 'NUM': 46}\n",
      "{'PHN': 'North Western Melbourne', 'LGA': 'Brimbank', 'Period': '2010-2014', 'Disease': 'Circulatory_System_Diseases', 'ASR': 47.3, 'SR': 104, 'NUM': 401}\n",
      "{'PHN': 'North Western Melbourne', 'LGA': 'Brimbank', 'Period': '2010-2014', 'Disease': 'Colorectal_Cancer', 'ASR': 10.2, 'SR': 114, 'NUM': 87}\n"
     ]
    }
   ],
   "source": [
    "for result in results:\n",
    "    print(result['_source'])"
   ]
  }
 ],
 "metadata": {
  "kernelspec": {
   "display_name": "Python 3",
   "language": "python",
   "name": "python3"
  },
  "language_info": {
   "codemirror_mode": {
    "name": "ipython",
    "version": 3
   },
   "file_extension": ".py",
   "mimetype": "text/x-python",
   "name": "python",
   "nbconvert_exporter": "python",
   "pygments_lexer": "ipython3",
   "version": "3.10.12"
  }
 },
 "nbformat": 4,
 "nbformat_minor": 2
}
