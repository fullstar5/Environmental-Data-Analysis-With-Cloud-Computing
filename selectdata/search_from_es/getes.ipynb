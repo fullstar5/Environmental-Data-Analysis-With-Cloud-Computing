{
 "cells": [
  {
   "cell_type": "code",
   "execution_count": 131,
   "metadata": {},
   "outputs": [],
   "source": [
    "from elasticsearch import Elasticsearch\n"
   ]
  },
  {
   "cell_type": "code",
   "execution_count": 150,
   "metadata": {},
   "outputs": [],
   "source": [
    "city = 'Ballarat'\n",
    "start = 1\n",
    "end = 6"
   ]
  },
  {
   "cell_type": "code",
   "execution_count": 134,
   "metadata": {},
   "outputs": [],
   "source": [
    "es = Elasticsearch(\n",
    "    'https://127.0.0.1:9200',\n",
    "    verify_certs=False,\n",
    "    basic_auth=('elastic', 'elastic'),\n",
    "    request_timeout=60,\n",
    "    ssl_show_warn=False\n",
    "    )"
   ]
  },
  {
   "cell_type": "code",
   "execution_count": 151,
   "metadata": {},
   "outputs": [],
   "source": [
    "index_names = \",\".join([f\"bom-weather-2024050{i}\" for i in range(start, end)])  \n",
    "# index_names = \",\".join([f\"bom-weather-20240504\"])  \n",
    "\n",
    "# 定义查询\n",
    "query = {\n",
    "    \"query\": {\n",
    "        \"match\": {\n",
    "            \"apparent_temperature\": \"6\"\n",
    "        }\n",
    "    }\n",
    "}\n",
    "\n",
    "# 使用生成的索引列表执行查询\n",
    "response = es.search(index=index_names, body=query)\n",
    "\n",
    "# 获取返回的数据\n",
    "hits = response['hits']['hits']"
   ]
  },
  {
   "cell_type": "code",
   "execution_count": 90,
   "metadata": {},
   "outputs": [],
   "source": [
    "query = {\n",
    "    \"size\": 5,\n",
    "    \"_source\": ['language'],\n",
    "    \"query\": {\n",
    "        # \"match_all\": {}\n",
    "        \"match\": {'full_name': city}\n",
    "    }\n",
    "}\n",
    "\n",
    "response = es.search(index=\"twitter_vic\", body=query)\n",
    "\n",
    "hits = response['hits']['hits']"
   ]
  },
  {
   "cell_type": "code",
   "execution_count": 135,
   "metadata": {},
   "outputs": [],
   "source": [
    "query = {\n",
    "    \"size\": 10,\n",
    "    # \"_source\": ['language'],\n",
    "    \"query\": {\n",
    "        \"bool\": {\n",
    "            \"must\":[\n",
    "                {\"match\": {'full_name': city}},\n",
    "                {\"match\": {'language': 'en'}}\n",
    "            ]\n",
    "        }\n",
    "    }\n",
    "}\n",
    "\n",
    "response = es.search(index=\"twitter_vic\", body=query)\n",
    "\n",
    "hits = response['hits']['hits']"
   ]
  },
  {
   "cell_type": "code",
   "execution_count": 152,
   "metadata": {},
   "outputs": [
    {
     "name": "stdout",
     "output_type": "stream",
     "text": [
      "{'site_name': 'Melbourne Airport', 'local_date_time': '20240504070000', 'coordinates': [-37.7, 144.8], 'apparent_temperature': 6.0, 'cloud': 'Mostly cloudy', 'cloud_type': 'Stratus', 'delta_temperature': 0.4, 'air_temperature': 8.9, 'dew_point': 8.0, 'press': 1026.8, 'press_tend': '-', 'rain_trace': '0.2', 'swell_period': None, 'vis_km': '10', 'weather': 'Fine', 'wind_spd_kmh': 13}\n",
      "{'site_name': 'Melbourne Airport', 'local_date_time': '20240504190000', 'coordinates': [-37.7, 144.8], 'apparent_temperature': 6.0, 'cloud': '-', 'cloud_type': '-', 'delta_temperature': 0.9, 'air_temperature': 9.1, 'dew_point': 7.1, 'press': 1025.3, 'press_tend': '-', 'rain_trace': '0.0', 'swell_period': None, 'vis_km': '10', 'weather': 'Fine', 'wind_spd_kmh': 13}\n",
      "{'site_name': 'Melbourne Airport', 'local_date_time': '20240504200000', 'coordinates': [-37.7, 144.8], 'apparent_temperature': 6.0, 'cloud': '-', 'cloud_type': '-', 'delta_temperature': 1.0, 'air_temperature': 9.2, 'dew_point': 7.0, 'press': 1025.2, 'press_tend': '-', 'rain_trace': '0.0', 'swell_period': None, 'vis_km': '10', 'weather': 'Fine', 'wind_spd_kmh': 13}\n",
      "{'site_name': 'Melbourne Airport', 'local_date_time': '20240504210000', 'coordinates': [-37.7, 144.8], 'apparent_temperature': 6.0, 'cloud': 'Partly cloudy', 'cloud_type': '-', 'delta_temperature': 1.0, 'air_temperature': 9.2, 'dew_point': 7.0, 'press': 1025.4, 'press_tend': 'F', 'rain_trace': '0.0', 'swell_period': None, 'vis_km': '25', 'weather': 'Haze', 'wind_spd_kmh': 13}\n"
     ]
    }
   ],
   "source": [
    "for hit in hits:\n",
    "    print(hit['_source'])\n",
    "    # print(hit['_source']['language'])"
   ]
  }
 ],
 "metadata": {
  "kernelspec": {
   "display_name": "Python 3",
   "language": "python",
   "name": "python3"
  },
  "language_info": {
   "codemirror_mode": {
    "name": "ipython",
    "version": 3
   },
   "file_extension": ".py",
   "mimetype": "text/x-python",
   "name": "python",
   "nbconvert_exporter": "python",
   "pygments_lexer": "ipython3",
   "version": "3.10.12"
  }
 },
 "nbformat": 4,
 "nbformat_minor": 2
}
