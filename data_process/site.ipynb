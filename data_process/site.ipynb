{
 "cells": [
  {
   "cell_type": "code",
   "execution_count": null,
   "metadata": {},
   "outputs": [],
   "source": [
    "import json\n",
    "import pandas as pd\n",
    "from collections import defaultdict\n",
    "import requests\n",
    "import shapely\n",
    "from shapely.geometry import Point\n",
    "from shapely.geometry import Polygon"
   ]
  },
  {
   "cell_type": "code",
   "execution_count": null,
   "metadata": {},
   "outputs": [],
   "source": [
    "#read json file\n",
    "filename = \"PM.json\"\n",
    "output = 'lga_site.json'\n",
    "with open(filename, \"r\") as file:\n",
    "    pm = json.load(file)"
   ]
  },
  {
   "cell_type": "code",
   "execution_count": null,
   "metadata": {},
   "outputs": [],
   "source": [
    "url = \"https://gateway.api.epa.vic.gov.au/environmentMonitoring/v1/sites?environmentalSegment=air\"\n",
    "\n",
    "headers = {\n",
    "    \"User-Agent\": 'curl/8.4.0',\n",
    "    \"Cache-Control\": 'no-cache',\n",
    "    \"X-API-Key\": \"62eb03b279a54273ace3f893e994f90d\"\n",
    "}"
   ]
  },
  {
   "cell_type": "code",
   "execution_count": null,
   "metadata": {},
   "outputs": [],
   "source": [
    "try:\n",
    "    response = requests.get(url, headers=headers)\n",
    "    raw_epa = response.json()\n",
    "except Exception as e:\n",
    "    print(\"error when request EPA data: \", e)"
   ]
  },
  {
   "cell_type": "code",
   "execution_count": null,
   "metadata": {},
   "outputs": [],
   "source": [
    "site = defaultdict()\n",
    "for record in raw_epa['records']:\n",
    "    site[record['siteName']] = record['geometry']['coordinates']"
   ]
  },
  {
   "cell_type": "code",
   "execution_count": null,
   "metadata": {},
   "outputs": [],
   "source": [
    "with open('VIC_LGA_2021.geojson', \"r\") as geo_file:\n",
    "    geo = json.load(geo_file)['features']"
   ]
  },
  {
   "cell_type": "code",
   "execution_count": null,
   "metadata": {},
   "outputs": [],
   "source": [
    "lga_site = defaultdict()\n",
    "n = 0\n",
    "for record in geo:\n",
    "    name = record['properties']['lga_name'][0]\n",
    "    print('LGA: '+name)\n",
    "    shape = shapely.from_geojson(json.dumps(record['geometry']))\n",
    "    for i in site.keys():\n",
    "        print(i)\n",
    "        inArea = shape.contains(Point(site[i][1],site[i][0]))\n",
    "        if inArea:\n",
    "            n += 1\n",
    "            if name in lga_site.keys():\n",
    "                lga_site[name].append(i)\n",
    "            else: lga_site[name] = [i]\n",
    "            print('matched')"
   ]
  },
  {
   "cell_type": "code",
   "execution_count": null,
   "metadata": {},
   "outputs": [],
   "source": [
    "with open(output,'w') as out:\n",
    "    json.dump(lga_site,out,indent=2)"
   ]
  },
  {
   "cell_type": "code",
   "execution_count": 6,
   "metadata": {},
   "outputs": [],
   "source": [
    "with open('VIC_LGA_2021.geojson', \"r\") as geo_file:\n",
    "    geodata = json.load(geo_file)\n",
    "for feature in geodata.get(\"features\", []):\n",
    "    lga_name = feature[\"properties\"].get(\"lga_name\")[0]\n",
    "    feature[\"properties\"][\"LGA\"] = lga_name\n"
   ]
  },
  {
   "cell_type": "code",
   "execution_count": 7,
   "metadata": {},
   "outputs": [],
   "source": [
    "with open('LGA.geojson','w') as out:\n",
    "    json.dump(geodata,out,indent=2)"
   ]
  }
 ],
 "metadata": {
  "kernelspec": {
   "display_name": "Python 3.11.1 64-bit",
   "language": "python",
   "name": "python3"
  },
  "language_info": {
   "codemirror_mode": {
    "name": "ipython",
    "version": 3
   },
   "file_extension": ".py",
   "mimetype": "text/x-python",
   "name": "python",
   "nbconvert_exporter": "python",
   "pygments_lexer": "ipython3",
   "version": "3.11.1"
  },
  "orig_nbformat": 4,
  "vscode": {
   "interpreter": {
    "hash": "5238573367df39f7286bb46f9ff5f08f63a01a80960060ce41e3c79b190280fa"
   }
  }
 },
 "nbformat": 4,
 "nbformat_minor": 2
}
