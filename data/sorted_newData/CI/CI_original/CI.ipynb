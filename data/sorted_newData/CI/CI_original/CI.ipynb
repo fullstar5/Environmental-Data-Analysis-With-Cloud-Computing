{
 "cells": [
  {
   "cell_type": "markdown",
   "metadata": {},
   "source": [
    "# Modify the column name (2006-2010)"
   ]
  },
  {
   "cell_type": "code",
   "execution_count": 1,
   "metadata": {},
   "outputs": [],
   "source": [
    "import json\n",
    "\n",
    "# 读取JSON文件\n",
    "file_path = \"CI2006-2010.json\"\n",
    "with open(file_path, \"r\") as file:\n",
    "    data = json.load(file)"
   ]
  },
  {
   "cell_type": "code",
   "execution_count": 2,
   "metadata": {},
   "outputs": [],
   "source": [
    "\n",
    "output_file_path = \"CI2006-2010_names.txt\"\n",
    "\n",
    "with open(file_path, \"r\") as file:\n",
    "    data = json.load(file)\n",
    "\n",
    "# 获取第一个feature的所有键\n",
    "feature_keys = data['features'][0]['properties'].keys()\n",
    "\n",
    "# 将字段名写入文件\n",
    "with open(output_file_path, \"w\") as output_file:\n",
    "    for key in feature_keys:\n",
    "        output_file.write(key + \"\\n\")\n"
   ]
  },
  {
   "cell_type": "code",
   "execution_count": 3,
   "metadata": {},
   "outputs": [
    {
     "name": "stdout",
     "output_type": "stream",
     "text": [
      "Modified Version: CI2006-2010_modified.json\n"
     ]
    }
   ],
   "source": [
    "import json\n",
    "\n",
    "# 读取JSON文件\n",
    "file_path = \"CI2006-2010.json\"\n",
    "with open(file_path, \"r\") as file:\n",
    "    data = json.load(file)\n",
    "\n",
    "# 需要修改的字段名映射关系\n",
    "name_mapping = {\n",
    "    \"lung_canc_2006_2010_num\": \"Lung_Cancer_num\",\n",
    "    \"lymphoma_2006_2010_num\": \"Lymphoma_num\",\n",
    "    \"colortl_canc_2006_2010_sr\": \"Colorectal_Cancer_sr\",\n",
    "    \"colortl_canc_2006_2010_asr_100000\": \"Colorectal_Cancer_asr\",\n",
    "    \"lung_canc_2006_2010_asr_100000\": \"Lung_Cancer_asr\",\n",
    "    \"colortl_canc_2006_2010_num\": \"Colorectal_Cancer_num\",\n",
    "    \"lymphoma_2006_2010_asr_100000\": \"Lymphoma_asr\",\n",
    "    \"lung_canc_2006_2010_sr\": \"Lung_Cancer_sr\",\n",
    "    \"melanoma_skin_2006_2010_asr_100000\": \"Melanoma_Skin_asr\",\n",
    "    \"melanoma_skin_2006_2010_num\": \"Melanoma_Skin_num\",\n",
    "    \"melanoma_skin_2006_2010_sr\": \"Melanoma_Skin_sr\",\n",
    "    \"lymphoma_2006_2010_sr\": \"Lymphoma_sr\",\n",
    "    \"lga_code\": \"lga_code\",\n",
    "\n",
    "}\n",
    "\n",
    "# 修改字段名\n",
    "for feature in data['features']:\n",
    "    properties = feature['properties']\n",
    "    for old_name, new_name in name_mapping.items():\n",
    "        if old_name in properties:\n",
    "            properties[new_name] = properties.pop(old_name)\n",
    "\n",
    "# 保存修改后的数据集\n",
    "output_file_path = \"CI2006-2010_modified.json\"\n",
    "with open(output_file_path, \"w\") as output_file:\n",
    "    json.dump(data, output_file)\n",
    "\n",
    "print(\"Modified Version:\", output_file_path)\n"
   ]
  },
  {
   "cell_type": "code",
   "execution_count": 4,
   "metadata": {},
   "outputs": [
    {
     "name": "stdout",
     "output_type": "stream",
     "text": [
      "lung_canc_2006_2010_num\n",
      "lymphoma_2006_2010_num\n",
      "colortl_canc_2006_2010_sr\n",
      "colortl_canc_2006_2010_asr_100000\n",
      "lung_canc_2006_2010_asr_100000\n",
      "colortl_canc_2006_2010_num\n",
      "lymphoma_2006_2010_asr_100000\n",
      "lga_code\n",
      "lung_canc_2006_2010_sr\n",
      "melanoma_skin_2006_2010_asr_100000\n",
      "melanoma_skin_2006_2010_num\n",
      "melanoma_skin_2006_2010_sr\n",
      "lymphoma_2006_2010_sr\n",
      "Number of fields: 13\n"
     ]
    }
   ],
   "source": [
    "import json\n",
    "\n",
    "# 读取修改后的JSON文件\n",
    "modified_file_path = \"CI2006-2010.json\"\n",
    "with open(modified_file_path, \"r\") as file:\n",
    "    modified_data = json.load(file)\n",
    "\n",
    "# 获取第一个feature的所有键\n",
    "first_feature_keys = modified_data['features'][0]['properties'].keys()\n",
    "\n",
    "# 打印所有字段名\n",
    "for key in first_feature_keys:\n",
    "    print(key)\n",
    "\n",
    "\n",
    "# 统计字段名数量\n",
    "num_fields = len(feature_keys)\n",
    "\n",
    "# 打印字段名数量\n",
    "print(\"Number of fields:\", num_fields)\n"
   ]
  },
  {
   "cell_type": "code",
   "execution_count": 5,
   "metadata": {},
   "outputs": [
    {
     "name": "stdout",
     "output_type": "stream",
     "text": [
      "Lung_Cancer_num\n",
      "Lymphoma_num\n",
      "Colorectal_Cancer_sr\n",
      "Colorectal_Cancer_asr\n",
      "Lung_Cancer_asr\n",
      "Colorectal_Cancer_num\n",
      "Lymphoma_asr\n",
      "Lung_Cancer_sr\n",
      "Melanoma_Skin_asr\n",
      "Melanoma_Skin_num\n",
      "Melanoma_Skin_sr\n",
      "Lymphoma_sr\n",
      "lga_code\n",
      "Number of fields: 13\n"
     ]
    }
   ],
   "source": [
    "import json\n",
    "\n",
    "# 读取JSON文件\n",
    "file_path = \"CI2006-2010_modified.json\"\n",
    "with open(file_path, \"r\") as file:\n",
    "    data = json.load(file)\n",
    "\n",
    "# 获取第一个feature的所有键\n",
    "feature_keys = data['features'][0]['properties'].keys()\n",
    "\n",
    "\n",
    "# 打印所有字段名\n",
    "for key in feature_keys:\n",
    "    print(key)\n",
    "\n",
    "\n",
    "\n",
    "# 统计字段名数量\n",
    "num_fields = len(feature_keys)\n",
    "\n",
    "# 打印字段名数量\n",
    "print(\"Number of fields:\", num_fields)\n"
   ]
  },
  {
   "cell_type": "markdown",
   "metadata": {},
   "source": [
    "# Modify the column name (2010-2014)"
   ]
  },
  {
   "cell_type": "code",
   "execution_count": 6,
   "metadata": {},
   "outputs": [],
   "source": [
    "import json\n",
    "\n",
    "# 读取JSON文件\n",
    "file_path = \"CI2010-2014.json\"\n",
    "with open(file_path, \"r\") as file:\n",
    "    data = json.load(file)"
   ]
  },
  {
   "cell_type": "code",
   "execution_count": 7,
   "metadata": {},
   "outputs": [],
   "source": [
    "\n",
    "output_file_path = \"CI2010-2014_names.txt\"\n",
    "\n",
    "with open(file_path, \"r\") as file:\n",
    "    data = json.load(file)\n",
    "\n",
    "# 获取第一个feature的所有键\n",
    "feature_keys = data['features'][0]['properties'].keys()\n",
    "\n",
    "# 将字段名写入文件\n",
    "with open(output_file_path, \"w\") as output_file:\n",
    "    for key in feature_keys:\n",
    "        output_file.write(key + \"\\n\")\n"
   ]
  },
  {
   "cell_type": "code",
   "execution_count": 8,
   "metadata": {},
   "outputs": [
    {
     "name": "stdout",
     "output_type": "stream",
     "text": [
      "Modified Version: CI2010-2014_modified.json\n"
     ]
    }
   ],
   "source": [
    "import json\n",
    "\n",
    "# 读取JSON文件\n",
    "file_path = \"CI2010-2014.json\"\n",
    "with open(file_path, \"r\") as file:\n",
    "    data = json.load(file)\n",
    "\n",
    "# 需要修改的字段名映射关系\n",
    "name_mapping = {\n",
    "    \"melanoma_of_the_skin_2010_to_2014_sr\": \"Melanoma_Skin_sr\",\n",
    "    \"lung_cancer_2010_to_2014_asr_per_100000\": \"Lung_Cancer_asr\",\n",
    "    \"colorectal_cancer_2010_to_2014_number\": \"Colorectal_Cancer_num\",\n",
    "    \"melanoma_of_the_skin_2010_to_2014_asr_per_100000\": \"Melanoma_Skin_asr\",\n",
    "    \"lung_cancer_2010_to_2014_number\": \"Lung_Cancer_num\",\n",
    "    \"colorectal_cancer_2010_to_2014_sr\": \"Colorectal_Cancer_sr\",\n",
    "    \"melanoma_of_the_skin_2010_to_2014_number\": \"Melanoma_Skin_num\",\n",
    "    \"lymphoma_2010_to_2014_sr\": \"Lymphoma_sr\",\n",
    "    \"lymphoma_2010_to_2014_number\": \"Lymphoma_num\",\n",
    "    \"lung_cancer_2010_to_2014_sr\": \"Lung_Cancer_sr\",\n",
    "    \"colorectal_cancer_2010_to_2014_asr_per_100000\": \"Colorectal_Cancer_asr\",\n",
    "    \"lymphoma_2010_to_2014_asr_per_100000\": \"Lymphoma_asr\"\n",
    "}\n",
    "# 修改字段名\n",
    "for feature in data['features']:\n",
    "    properties = feature['properties']\n",
    "    for old_name, new_name in name_mapping.items():\n",
    "        if old_name in properties:\n",
    "            properties[new_name] = properties.pop(old_name)\n",
    "\n",
    "# 保存修改后的数据集\n",
    "output_file_path = \"CI2010-2014_modified.json\"\n",
    "with open(output_file_path, \"w\") as output_file:\n",
    "    json.dump(data, output_file)\n",
    "\n",
    "print(\"Modified Version:\", output_file_path)\n"
   ]
  },
  {
   "cell_type": "code",
   "execution_count": 9,
   "metadata": {},
   "outputs": [
    {
     "name": "stdout",
     "output_type": "stream",
     "text": [
      "melanoma_of_the_skin_2010_to_2014_sr\n",
      "lung_cancer_2010_to_2014_asr_per_100000\n",
      "colorectal_cancer_2010_to_2014_number\n",
      "lga_name\n",
      "lga_code\n",
      "melanoma_of_the_skin_2010_to_2014_asr_per_100000\n",
      "lung_cancer_2010_to_2014_number\n",
      "colorectal_cancer_2010_to_2014_sr\n",
      "melanoma_of_the_skin_2010_to_2014_number\n",
      "lymphoma_2010_to_2014_sr\n",
      "lymphoma_2010_to_2014_number\n",
      "lung_cancer_2010_to_2014_sr\n",
      "colorectal_cancer_2010_to_2014_asr_per_100000\n",
      "lymphoma_2010_to_2014_asr_per_100000\n",
      "Number of fields: 14\n"
     ]
    }
   ],
   "source": [
    "import json\n",
    "\n",
    "# 读取修改后的JSON文件\n",
    "modified_file_path = \"CI2010-2014.json\"\n",
    "with open(modified_file_path, \"r\") as file:\n",
    "    modified_data = json.load(file)\n",
    "\n",
    "# 获取第一个feature的所有键\n",
    "first_feature_keys = modified_data['features'][0]['properties'].keys()\n",
    "\n",
    "# 打印所有字段名\n",
    "for key in first_feature_keys:\n",
    "    print(key)\n",
    "\n",
    "\n",
    "# 统计字段名数量\n",
    "num_fields = len(feature_keys)\n",
    "\n",
    "# 打印字段名数量\n",
    "print(\"Number of fields:\", num_fields)\n"
   ]
  },
  {
   "cell_type": "code",
   "execution_count": 10,
   "metadata": {},
   "outputs": [
    {
     "name": "stdout",
     "output_type": "stream",
     "text": [
      "lga_name\n",
      "lga_code\n",
      "Melanoma_Skin_sr\n",
      "Lung_Cancer_asr\n",
      "Colorectal_Cancer_num\n",
      "Melanoma_Skin_asr\n",
      "Lung_Cancer_num\n",
      "Colorectal_Cancer_sr\n",
      "Melanoma_Skin_num\n",
      "Lymphoma_sr\n",
      "Lymphoma_num\n",
      "Lung_Cancer_sr\n",
      "Colorectal_Cancer_asr\n",
      "Lymphoma_asr\n",
      "Number of fields: 14\n"
     ]
    }
   ],
   "source": [
    "import json\n",
    "\n",
    "# 读取JSON文件\n",
    "file_path = \"CI2010-2014_modified.json\"\n",
    "with open(file_path, \"r\") as file:\n",
    "    data = json.load(file)\n",
    "\n",
    "# 获取第一个feature的所有键\n",
    "feature_keys = data['features'][0]['properties'].keys()\n",
    "\n",
    "\n",
    "# 打印所有字段名\n",
    "for key in feature_keys:\n",
    "    print(key)\n",
    "\n",
    "\n",
    "\n",
    "# 统计字段名数量\n",
    "num_fields = len(feature_keys)\n",
    "\n",
    "# 打印字段名数量\n",
    "print(\"Number of fields:\", num_fields)\n"
   ]
  },
  {
   "cell_type": "markdown",
   "metadata": {},
   "source": [
    "# Combine the Modified Files"
   ]
  },
  {
   "cell_type": "code",
   "execution_count": 13,
   "metadata": {},
   "outputs": [
    {
     "name": "stdout",
     "output_type": "stream",
     "text": [
      "Merged data saved to: CI_merged_data.json\n"
     ]
    }
   ],
   "source": [
    "import json\n",
    "from collections import defaultdict\n",
    "\n",
    "# File paths of the JSON files\n",
    "file_paths = [\n",
    "    'CI2006-2010_modified.json',\n",
    "    'CI2010-2014_modified.json'\n",
    "]\n",
    "\n",
    "# Initialize a dictionary to store merged data\n",
    "merged_data = defaultdict(lambda: defaultdict(lambda: defaultdict(dict)))\n",
    "\n",
    "# Process each file\n",
    "for file_path in file_paths:\n",
    "    # Extract year from the filename\n",
    "    year_range = file_path.split('/')[-1].split('_')[0].split('CI')[1]\n",
    "    \n",
    "    # Load JSON data from file\n",
    "    with open(file_path, 'r') as file:\n",
    "        data = json.load(file)\n",
    "        bbox = data.get('bbox', [None, None, None, None])  # Default bbox if not present\n",
    "        # Assume data is in the form of a GeoJSON FeatureCollection\n",
    "        for feature in data['features']:\n",
    "            lga_code = feature['properties'].get('lga_code', 'Unknown LGA Code')  # Use a default if not present\n",
    "            \n",
    "            # Iterate over each property except for LGA code and name\n",
    "            for key, value in feature['properties'].items():\n",
    "                if key not in ['lga_code', 'lga_name']:\n",
    "                    # Determine the metric type based on the property key\n",
    "                    if key.endswith('_num'):\n",
    "                        metric = 'NUM'\n",
    "                    elif key.endswith('_sdr'):\n",
    "                        metric = 'SR'\n",
    "                    else:\n",
    "                        metric = 'ASR'\n",
    "                    \n",
    "                    disease = key.rsplit('_', 1)[0]  # Split off the metric type from the disease name\n",
    "                    # Store the data in the nested dictionary\n",
    "                    merged_data[lga_code][year_range][disease][metric] = value\n",
    "\n",
    "        # Save bbox for each LGA and year\n",
    "        merged_data[lga_code][year_range]['bbox'] = bbox\n",
    "\n",
    "# Convert the defaultdict to a regular dictionary for JSON serialization\n",
    "output_data = json.loads(json.dumps(merged_data))\n",
    "\n",
    "# Save merged data to a new JSON file\n",
    "output_file_path = 'CI_merged_data.json'\n",
    "with open(output_file_path, 'w') as output_file:\n",
    "    json.dump(output_data, output_file, indent=4)\n",
    "\n",
    "print(\"Merged data saved to:\", output_file_path)"
   ]
  },
  {
   "cell_type": "code",
   "execution_count": 14,
   "metadata": {},
   "outputs": [
    {
     "name": "stdout",
     "output_type": "stream",
     "text": [
      "Merged data with bbox saved.\n"
     ]
    }
   ],
   "source": [
    "import json\n",
    "from collections import defaultdict\n",
    "\n",
    "# 旧的文件路径数组，现在我们需要包括meta文件\n",
    "file_paths = [\n",
    "    ('CI2006-2010_modified.json', '/Users/yueyangwu/Desktop/sorted_newData(Disease)/CI_meta/CI2006-2010-meta.json'),\n",
    "    ('CI2010-2014_modified.json', '/Users/yueyangwu/Desktop/sorted_newData(Disease)/CI_meta/CI2010-2014-meta.json')\n",
    "]\n",
    "\n",
    "# 初始化字典存储合并后的数据\n",
    "merged_data = defaultdict(lambda: defaultdict(lambda: defaultdict(dict)))\n",
    "\n",
    "# 处理每个数据文件和相应的meta文件\n",
    "for data_file, meta_file in file_paths:\n",
    "    year_range = data_file.split('_')[0].split('CI')[1]\n",
    "\n",
    "    # 加载数据文件\n",
    "    with open(data_file, 'r') as file:\n",
    "        data = json.load(file)\n",
    "\n",
    "    # 加载meta文件中的bbox\n",
    "    with open(meta_file, 'r') as file:\n",
    "        meta_data = json.load(file)\n",
    "        bbox = meta_data.get('bbox', [None, None, None, None])\n",
    "\n",
    "    # 处理数据文件的特征\n",
    "    for feature in data['features']:\n",
    "        lga_code = feature['properties'].get('lga_code', 'Unknown LGA Code')\n",
    "        for key, value in feature['properties'].items():\n",
    "            if key not in ['lga_code', 'lga_name']:\n",
    "                metric = 'ASR' if not key.endswith('_num') and not key.endswith('_sdr') else ('NUM' if key.endswith('_num') else 'SR')\n",
    "                disease = key.rsplit('_', 1)[0]\n",
    "                merged_data[lga_code][year_range][disease][metric] = value\n",
    "\n",
    "        # 为每个LGA和年份添加bbox\n",
    "        merged_data[lga_code][year_range]['bbox'] = bbox\n",
    "\n",
    "# 将处理后的数据保存到新的JSON文件中\n",
    "with open('CI_merged_data_with_bbox.json', 'w') as output_file:\n",
    "    json.dump(merged_data, output_file, indent=4)\n",
    "\n",
    "print(\"Merged data with bbox saved.\")\n"
   ]
  }
 ],
 "metadata": {
  "kernelspec": {
   "display_name": "Python 3",
   "language": "python",
   "name": "python3"
  },
  "language_info": {
   "codemirror_mode": {
    "name": "ipython",
    "version": 3
   },
   "file_extension": ".py",
   "mimetype": "text/x-python",
   "name": "python",
   "nbconvert_exporter": "python",
   "pygments_lexer": "ipython3",
   "version": "3.11.7"
  },
  "orig_nbformat": 4
 },
 "nbformat": 4,
 "nbformat_minor": 2
}
