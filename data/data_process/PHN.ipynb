{
 "cells": [
  {
   "cell_type": "markdown",
   "metadata": {},
   "source": [
    "-----------Team 48------------\n",
    "| Name          | Student ID |\n",
    "|---------------|------------|\n",
    "| Yifei ZHANG   | 1174267    |\n",
    "| Yibo HUANG    | 1380231    |\n",
    "| Hanzhang SUN  | 1379790    |\n",
    "| Liyang CHEN   | 1135879    |\n",
    "| Yueyang WU    | 1345511    |"
   ]
  },
  {
   "cell_type": "code",
   "execution_count": 1,
   "metadata": {},
   "outputs": [],
   "source": [
    "import json\n",
    "import pandas as pd\n",
    "from collections import defaultdict"
   ]
  },
  {
   "cell_type": "code",
   "execution_count": 2,
   "metadata": {},
   "outputs": [],
   "source": [
    "phn_map = pd.read_excel('../VIC_LGA_2021_PHN_2017.xlsx',dtype=str)"
   ]
  },
  {
   "cell_type": "code",
   "execution_count": 3,
   "metadata": {},
   "outputs": [
    {
     "data": {
      "text/html": [
       "<div>\n",
       "<style scoped>\n",
       "    .dataframe tbody tr th:only-of-type {\n",
       "        vertical-align: middle;\n",
       "    }\n",
       "\n",
       "    .dataframe tbody tr th {\n",
       "        vertical-align: top;\n",
       "    }\n",
       "\n",
       "    .dataframe thead th {\n",
       "        text-align: right;\n",
       "    }\n",
       "</style>\n",
       "<table border=\"1\" class=\"dataframe\">\n",
       "  <thead>\n",
       "    <tr style=\"text-align: right;\">\n",
       "      <th></th>\n",
       "      <th>LGA_CODE_2021</th>\n",
       "      <th>LGA_NAME_2021</th>\n",
       "      <th>PHN_CODE_2017</th>\n",
       "      <th>PHN_NAME_2017</th>\n",
       "      <th>RATIO_FROM_TO</th>\n",
       "    </tr>\n",
       "  </thead>\n",
       "  <tbody>\n",
       "    <tr>\n",
       "      <th>0</th>\n",
       "      <td>10050</td>\n",
       "      <td>Albury</td>\n",
       "      <td>PHN205</td>\n",
       "      <td>Murray</td>\n",
       "      <td>1</td>\n",
       "    </tr>\n",
       "    <tr>\n",
       "      <th>1</th>\n",
       "      <td>20110</td>\n",
       "      <td>Alpine</td>\n",
       "      <td>PHN205</td>\n",
       "      <td>Murray</td>\n",
       "      <td>1</td>\n",
       "    </tr>\n",
       "    <tr>\n",
       "      <th>2</th>\n",
       "      <td>20260</td>\n",
       "      <td>Ararat</td>\n",
       "      <td>PHN206</td>\n",
       "      <td>Western Victoria</td>\n",
       "      <td>1</td>\n",
       "    </tr>\n",
       "    <tr>\n",
       "      <th>3</th>\n",
       "      <td>20570</td>\n",
       "      <td>Ballarat</td>\n",
       "      <td>PHN206</td>\n",
       "      <td>Western Victoria</td>\n",
       "      <td>1</td>\n",
       "    </tr>\n",
       "    <tr>\n",
       "      <th>4</th>\n",
       "      <td>20660</td>\n",
       "      <td>Banyule</td>\n",
       "      <td>PHN202</td>\n",
       "      <td>Eastern Melbourne</td>\n",
       "      <td>1</td>\n",
       "    </tr>\n",
       "  </tbody>\n",
       "</table>\n",
       "</div>"
      ],
      "text/plain": [
       "  LGA_CODE_2021 LGA_NAME_2021 PHN_CODE_2017      PHN_NAME_2017 RATIO_FROM_TO\n",
       "0         10050        Albury        PHN205             Murray             1\n",
       "1         20110        Alpine        PHN205             Murray             1\n",
       "2         20260        Ararat        PHN206   Western Victoria             1\n",
       "3         20570      Ballarat        PHN206   Western Victoria             1\n",
       "4         20660       Banyule        PHN202  Eastern Melbourne             1"
      ]
     },
     "execution_count": 3,
     "metadata": {},
     "output_type": "execute_result"
    }
   ],
   "source": [
    "phn_map.head()"
   ]
  },
  {
   "cell_type": "code",
   "execution_count": 4,
   "metadata": {},
   "outputs": [
    {
     "data": {
      "text/plain": [
       "Index(['LGA_CODE_2021', 'LGA_NAME_2021', 'PHN_CODE_2017', 'PHN_NAME_2017',\n",
       "       'RATIO_FROM_TO'],\n",
       "      dtype='object')"
      ]
     },
     "execution_count": 4,
     "metadata": {},
     "output_type": "execute_result"
    }
   ],
   "source": [
    "phn_map.columns"
   ]
  },
  {
   "cell_type": "code",
   "execution_count": 5,
   "metadata": {},
   "outputs": [],
   "source": [
    "data_dir = 'sorted_newData/merged_data_bbox/'\n",
    "filename = \"../sorted/PM/PM_original/PM_merged_data_with_bbox.json\"\n",
    "output = 'PM.json'\n",
    "with open(data_dir+filename, \"r\") as file:\n",
    "    data = json.load(file)"
   ]
  },
  {
   "cell_type": "code",
   "execution_count": 6,
   "metadata": {},
   "outputs": [
    {
     "data": {
      "text/plain": [
       "dict_keys(['20110', '20260', '20570', '20660', '20740', '20830', '20910', '21010', '21110', '21180', '21270', '21370', '21450', '21610', '21670', '21750', '21830', '21890', '22110', '22170', '22250', '22310', '22410', '22490', '22620', '22670', '22750', '22830', '22910', '22980', '23110', '23190', '23270', '23350', '23430', '23670', '23810', '23940', '24130', '24210', '24250', '24330', '24410', '24600', '24650', '24780', '24850', '24900', '24970', '25060', '25150', '25250', '25340', '25430', '25490', '25620', '25710', '25810', '25900', '25990', '26080', '26170', '26260', '26350', '26430', '26490', '26610', '26670', '26700', '26730', '26810', '26890', '26980', '27070', '27170', '27260', '27350', '27450', '27630', '29399'])"
      ]
     },
     "execution_count": 6,
     "metadata": {},
     "output_type": "execute_result"
    }
   ],
   "source": [
    "data.keys()"
   ]
  },
  {
   "cell_type": "code",
   "execution_count": 7,
   "metadata": {},
   "outputs": [
    {
     "name": "stdout",
     "output_type": "stream",
     "text": [
      "20110\n",
      "20260\n",
      "20570\n",
      "20660\n",
      "20740\n",
      "20830\n",
      "20910\n",
      "21010\n",
      "21110\n",
      "21180\n",
      "21270\n",
      "21370\n",
      "21450\n",
      "21610\n",
      "21670\n",
      "21750\n",
      "21830\n",
      "21890\n",
      "22110\n",
      "22170\n",
      "22250\n",
      "22310\n",
      "22410\n",
      "22490\n",
      "22620\n",
      "22670\n",
      "22750\n",
      "22830\n",
      "22910\n",
      "22980\n",
      "23110\n",
      "23190\n",
      "23270\n",
      "23350\n",
      "23430\n",
      "23670\n",
      "23810\n",
      "23940\n",
      "24130\n",
      "24210\n",
      "24250\n",
      "24330\n",
      "24410\n",
      "24600\n",
      "24650\n",
      "24780\n",
      "24850\n",
      "24900\n",
      "24970\n",
      "25060\n",
      "25150\n",
      "25250\n",
      "25340\n",
      "25430\n",
      "25490\n",
      "25620\n",
      "25710\n",
      "25810\n",
      "25900\n",
      "25990\n",
      "26080\n",
      "26170\n",
      "26260\n",
      "26350\n",
      "26430\n",
      "26490\n",
      "26610\n",
      "26670\n",
      "26700\n",
      "26730\n",
      "26810\n",
      "26890\n",
      "26980\n",
      "27070\n",
      "27170\n",
      "27260\n",
      "27350\n",
      "27450\n",
      "27630\n",
      "29399\n"
     ]
    }
   ],
   "source": [
    "mapped = defaultdict()\n",
    "for i in data.keys():\n",
    "    print(i)\n",
    "    match = phn_map[phn_map['LGA_CODE_2021']==i].iloc[0]\n",
    "    name = match['PHN_NAME_2017']\n",
    "    if name not in mapped.keys():\n",
    "        mapped[name] = dict()\n",
    "    mapped[match['PHN_NAME_2017']][match['LGA_NAME_2021']] = data[i]"
   ]
  },
  {
   "cell_type": "code",
   "execution_count": 8,
   "metadata": {},
   "outputs": [],
   "source": [
    "with open(output,'w') as out:\n",
    "    json.dump(mapped,out,indent=2)"
   ]
  }
 ],
 "metadata": {
  "kernelspec": {
   "display_name": "Python 3.11.1 64-bit",
   "language": "python",
   "name": "python3"
  },
  "language_info": {
   "codemirror_mode": {
    "name": "ipython",
    "version": 3
   },
   "file_extension": ".py",
   "mimetype": "text/x-python",
   "name": "python",
   "nbconvert_exporter": "python",
   "pygments_lexer": "ipython3",
   "version": "3.11.1"
  },
  "orig_nbformat": 4,
  "vscode": {
   "interpreter": {
    "hash": "5238573367df39f7286bb46f9ff5f08f63a01a80960060ce41e3c79b190280fa"
   }
  }
 },
 "nbformat": 4,
 "nbformat_minor": 2
}
