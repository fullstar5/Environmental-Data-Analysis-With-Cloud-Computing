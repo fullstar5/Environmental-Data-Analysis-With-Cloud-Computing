{
 "cells": [
  {
   "cell_type": "code",
   "execution_count": 1,
   "metadata": {},
   "outputs": [],
   "source": [
    "import json\n",
    "import pandas as pd\n",
    "from collections import defaultdict"
   ]
  },
  {
   "cell_type": "code",
   "execution_count": 2,
   "metadata": {},
   "outputs": [],
   "source": [
    "phn_map = pd.read_excel('VIC_LGA_2021_PHN_2017.xlsx',dtype=str)"
   ]
  },
  {
   "cell_type": "code",
   "execution_count": null,
   "metadata": {},
   "outputs": [],
   "source": [
    "phn_map.head()"
   ]
  },
  {
   "cell_type": "code",
   "execution_count": null,
   "metadata": {},
   "outputs": [],
   "source": [
    "phn_map.columns"
   ]
  },
  {
   "cell_type": "code",
   "execution_count": 3,
   "metadata": {},
   "outputs": [],
   "source": [
    "#read json file\n",
    "data_dir = 'sorted_newData/PM/PM_original/'\n",
    "filename = \"PM_merged_data.json\"\n",
    "output = 'PM.json'\n",
    "with open(data_dir+filename, \"r\") as file:\n",
    "    data = json.load(file)"
   ]
  },
  {
   "cell_type": "code",
   "execution_count": 4,
   "metadata": {},
   "outputs": [
    {
     "data": {
      "text/plain": [
       "dict_keys(['20110', '20260', '20570', '20660', '20740', '20830', '20910', '21010', '21110', '21180', '21270', '21370', '21450', '21610', '21670', '21750', '21830', '21890', '22110', '22170', '22250', '22310', '22410', '22490', '22620', '22670', '22750', '22830', '22910', '22980', '23110', '23190', '23270', '23350', '23430', '23670', '23810', '23940', '24130', '24210', '24250', '24330', '24410', '24600', '24650', '24780', '24850', '24900', '24970', '25060', '25150', '25250', '25340', '25430', '25490', '25620', '25710', '25810', '25900', '25990', '26080', '26170', '26260', '26350', '26430', '26490', '26610', '26670', '26700', '26730', '26810', '26890', '26980', '27070', '27170', '27260', '27350', '27450', '27630', '29399'])"
      ]
     },
     "execution_count": 4,
     "metadata": {},
     "output_type": "execute_result"
    }
   ],
   "source": [
    "data.keys()"
   ]
  },
  {
   "cell_type": "code",
   "execution_count": 5,
   "metadata": {},
   "outputs": [],
   "source": [
    "mapped = defaultdict()\n",
    "for i in data.keys():\n",
    "    match = phn_map[phn_map['LGA_CODE_2021']==i].iloc[0]\n",
    "    name = match['PHN_NAME_2017']\n",
    "    if name not in mapped.keys():\n",
    "        mapped[name] = dict()\n",
    "    mapped[match['PHN_NAME_2017']][match['LGA_NAME_2021']] = data[i]"
   ]
  },
  {
   "cell_type": "code",
   "execution_count": 6,
   "metadata": {},
   "outputs": [],
   "source": [
    "with open(output,'w') as out:\n",
    "    json.dump(mapped,out,indent=2)"
   ]
  }
 ],
 "metadata": {
  "kernelspec": {
   "display_name": "Python 3.11.1 64-bit",
   "language": "python",
   "name": "python3"
  },
  "language_info": {
   "codemirror_mode": {
    "name": "ipython",
    "version": 3
   },
   "file_extension": ".py",
   "mimetype": "text/x-python",
   "name": "python",
   "nbconvert_exporter": "python",
   "pygments_lexer": "ipython3",
   "version": "3.11.1"
  },
  "orig_nbformat": 4,
  "vscode": {
   "interpreter": {
    "hash": "5238573367df39f7286bb46f9ff5f08f63a01a80960060ce41e3c79b190280fa"
   }
  }
 },
 "nbformat": 4,
 "nbformat_minor": 2
}
